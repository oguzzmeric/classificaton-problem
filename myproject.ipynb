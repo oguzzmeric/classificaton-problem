{
  "nbformat": 4,
  "nbformat_minor": 0,
  "metadata": {
    "colab": {
      "private_outputs": true,
      "provenance": [],
      "toc_visible": true
    },
    "kernelspec": {
      "name": "python3",
      "display_name": "Python 3"
    },
    "language_info": {
      "name": "python"
    }
  },
  "cells": [
    {
      "cell_type": "code",
      "execution_count": null,
      "metadata": {
        "id": "CQ3UWcHiF-lr"
      },
      "outputs": [],
      "source": [
        "import pandas as pd\n",
        "import matplotlib.pyplot as plt\n",
        "import numpy as np\n",
        "import sklearn.preprocessing as StandartScaler\n",
        "import seaborn as sns\n",
        "from sklearn.linear_model import LinearRegression\n",
        "from sklearn.model_selection import train_test_split\n",
        "from sklearn.metrics import accuracy_score\n"
      ]
    },
    {
      "cell_type": "code",
      "source": [
        "df = pd.read_csv(\"obesity.csv\")\n",
        "df.head()\n",
        "\n"
      ],
      "metadata": {
        "id": "a8CDihS6i1kx"
      },
      "execution_count": null,
      "outputs": []
    },
    {
      "cell_type": "code",
      "source": [
        "df.info()"
      ],
      "metadata": {
        "id": "MOYVvLiOjEOI"
      },
      "execution_count": null,
      "outputs": []
    },
    {
      "cell_type": "code",
      "source": [
        "df.isnull().sum()\n"
      ],
      "metadata": {
        "id": "FYxE9M35jLEW"
      },
      "execution_count": null,
      "outputs": []
    },
    {
      "cell_type": "code",
      "source": [
        "df.keys()\n"
      ],
      "metadata": {
        "id": "3KhK4m6lk13G"
      },
      "execution_count": null,
      "outputs": []
    },
    {
      "cell_type": "code",
      "source": [
        "y = df[\"NObeyesdad\"]\n",
        "x = df.drop(\"NObeyesdad\" , axis=1)\n",
        "\n"
      ],
      "metadata": {
        "id": "xSFnZN0ClNiH"
      },
      "execution_count": null,
      "outputs": []
    },
    {
      "cell_type": "code",
      "source": [
        "x_train,x_test,y_train,y_test = train_test_split(x,y , test_size = 0.3 , random_state=2)\n"
      ],
      "metadata": {
        "id": "m1f8Aq-ZmV8G"
      },
      "execution_count": null,
      "outputs": []
    },
    {
      "cell_type": "code",
      "source": [
        "print(x_train.shape)\n",
        "print(y_train.shape)\n"
      ],
      "metadata": {
        "id": "xCRI36YKnUqW"
      },
      "execution_count": null,
      "outputs": []
    },
    {
      "cell_type": "markdown",
      "source": [
        "# Logistic regression\n"
      ],
      "metadata": {
        "id": "7QMo1snF3w7A"
      }
    },
    {
      "cell_type": "code",
      "source": [
        "from sklearn.linear_model import LogisticRegression\n",
        "from sklearn.metrics import classification_report, confusion_matrix\n",
        "from sklearn.preprocessing import StandardScaler\n",
        "from sklearn.pipeline import make_pipeline\n",
        "from sklearn.impute import SimpleImputer\n",
        "from sklearn.model_selection import train_test_split\n",
        "from sklearn.preprocessing import MinMaxScaler\n",
        "from sklearn.tree import DecisionTreeClassifier\n",
        "from sklearn.ensemble import RandomForestClassifier\n",
        "from sklearn.svm import SVC\n",
        "from sklearn.metrics import classification_report"
      ],
      "metadata": {
        "id": "mAts99SB30dP"
      },
      "execution_count": null,
      "outputs": []
    },
    {
      "cell_type": "code",
      "source": [
        "logistic_model = make_pipeline( SimpleImputer(strategy='mean') ,MinMaxScaler() , LogisticRegression()) #also we caan use standartscaler() function\n",
        "logistic_model.fit(x_train,y_train)\n",
        "\n"
      ],
      "metadata": {
        "id": "cd-zGyAK5N4Q"
      },
      "execution_count": null,
      "outputs": []
    },
    {
      "cell_type": "code",
      "source": [
        "y_predict = logistic_model.predict(x_test)\n"
      ],
      "metadata": {
        "id": "H0JHrMx766XI"
      },
      "execution_count": null,
      "outputs": []
    },
    {
      "cell_type": "code",
      "source": [
        "logistic_model.score(x_train,y_train)"
      ],
      "metadata": {
        "id": "rPl7rAFh5gud"
      },
      "execution_count": null,
      "outputs": []
    },
    {
      "cell_type": "code",
      "source": [
        "acc_score = accuracy_score(y_predict , y_test)\n",
        "acc_score"
      ],
      "metadata": {
        "id": "RazmARkC5_2g"
      },
      "execution_count": null,
      "outputs": []
    },
    {
      "cell_type": "markdown",
      "source": [
        "\n",
        "# Decison Tree\n",
        "\n"
      ],
      "metadata": {
        "id": "f857vNE3GHnd"
      }
    },
    {
      "cell_type": "code",
      "source": [
        "dt_model = make_pipeline( MinMaxScaler() , DecisionTreeClassifier() )\n",
        "dt_model.fit(x_train,y_train)\n"
      ],
      "metadata": {
        "id": "c2_xWaRV7A1f"
      },
      "execution_count": null,
      "outputs": []
    },
    {
      "cell_type": "code",
      "source": [
        "dt_model.score(x_train,y_train)"
      ],
      "metadata": {
        "id": "TTiQIhj4HAoV"
      },
      "execution_count": null,
      "outputs": []
    },
    {
      "cell_type": "code",
      "source": [
        "dt_predict = dt_model.predict(x_test)\n"
      ],
      "metadata": {
        "id": "pDBTtvfFHGyn"
      },
      "execution_count": null,
      "outputs": []
    },
    {
      "cell_type": "code",
      "source": [
        "dt_acc_score = accuracy_score(y_test , dt_predict)\n",
        "dt_acc_score"
      ],
      "metadata": {
        "id": "oXXDVYkAHM99"
      },
      "execution_count": null,
      "outputs": []
    },
    {
      "cell_type": "code",
      "source": [
        "print(classification_report(y_test , dt_predict))"
      ],
      "metadata": {
        "id": "2KhCpGm1HYXm"
      },
      "execution_count": null,
      "outputs": []
    },
    {
      "cell_type": "markdown",
      "source": [
        "## ther is no overfitting\n",
        ""
      ],
      "metadata": {
        "id": "6T6GnZdcJVxX"
      }
    },
    {
      "cell_type": "markdown",
      "source": [
        "# rANDOM FOREST"
      ],
      "metadata": {
        "id": "FPvEPkLpdXW9"
      }
    },
    {
      "cell_type": "code",
      "source": [
        "rf_model = make_pipeline(MinMaxScaler() , RandomForestClassifier(n_estimators=500) )\n",
        "rf_model.fit(x_train , y_train)\n",
        "\n"
      ],
      "metadata": {
        "id": "J_QmpjJHJZBM"
      },
      "execution_count": null,
      "outputs": []
    },
    {
      "cell_type": "code",
      "source": [
        "rf_model.score(x_train,y_train)"
      ],
      "metadata": {
        "id": "qt5oQycDcni9"
      },
      "execution_count": null,
      "outputs": []
    },
    {
      "cell_type": "code",
      "source": [
        "rf_pred = rf_model.predict(x_test)\n"
      ],
      "metadata": {
        "id": "Zn9n0P1vctA7"
      },
      "execution_count": null,
      "outputs": []
    },
    {
      "cell_type": "code",
      "source": [
        "rf_model_acc_scr = accuracy_score(y_test , rf_pred)\n",
        "rf_model_acc_scr\n"
      ],
      "metadata": {
        "id": "SIrGjCIoc0Wd"
      },
      "execution_count": null,
      "outputs": []
    },
    {
      "cell_type": "code",
      "source": [
        "print(classification_report(y_test , rf_pred))"
      ],
      "metadata": {
        "id": "GRuooc7XdDbh"
      },
      "execution_count": null,
      "outputs": []
    },
    {
      "cell_type": "markdown",
      "source": [
        "ther is no overfitting"
      ],
      "metadata": {
        "id": "4BQ3LHY8dJuR"
      }
    },
    {
      "cell_type": "markdown",
      "source": [
        "# SVM"
      ],
      "metadata": {
        "id": "r9XBDd-qdQSs"
      }
    },
    {
      "cell_type": "code",
      "source": [
        "svc = make_pipeline(MinMaxScaler(), SVC())\n",
        "svc.fit(x_train,y_train)\n"
      ],
      "metadata": {
        "id": "yp3LifQFdM8i"
      },
      "execution_count": null,
      "outputs": []
    },
    {
      "cell_type": "code",
      "source": [
        "svc.score(x_train , y_train)\n"
      ],
      "metadata": {
        "id": "UX8pUML6dsP-"
      },
      "execution_count": null,
      "outputs": []
    },
    {
      "cell_type": "code",
      "source": [
        "svc_pred = svc.predict(x_test)\n"
      ],
      "metadata": {
        "id": "dzBxMT4WdyHU"
      },
      "execution_count": null,
      "outputs": []
    },
    {
      "cell_type": "code",
      "source": [
        "svc_acc_score = accuracy_score(y_test , svc_pred)\n",
        "svc_acc_score"
      ],
      "metadata": {
        "id": "6q12Phhdd4Eb"
      },
      "execution_count": null,
      "outputs": []
    },
    {
      "cell_type": "code",
      "source": [
        "print(classification_report(y_test , svc_pred))"
      ],
      "metadata": {
        "id": "ciSDbSmud3m-"
      },
      "execution_count": null,
      "outputs": []
    },
    {
      "cell_type": "markdown",
      "source": [
        "ther is no overfitting"
      ],
      "metadata": {
        "id": "m0OSqUgJeJqc"
      }
    },
    {
      "cell_type": "markdown",
      "source": [
        "# models evaluation"
      ],
      "metadata": {
        "id": "AoZ6wDZseMLb"
      }
    },
    {
      "cell_type": "code",
      "source": [
        " models_ev = pd.DataFrame({'model' : ['logistic regression' , 'Decison tree' ,'random forest','svm '], 'accuracy' : [acc_score , dt_acc_score , rf_model_acc_scr,svc_acc_score] })"
      ],
      "metadata": {
        "id": "DgIKrlifeIRQ"
      },
      "execution_count": null,
      "outputs": []
    },
    {
      "cell_type": "code",
      "source": [
        "models_ev"
      ],
      "metadata": {
        "id": "VI4JUuVtfllI"
      },
      "execution_count": null,
      "outputs": []
    },
    {
      "cell_type": "code",
      "source": [
        "colors = ['red','orange','blue','black']\n",
        "plt.figure(figsize=(12,5))\n",
        "plt.title(\"barplots acc for diff models\")\n",
        "plt.xlabel(\"models name\")\n",
        "plt.ylabel(\"accuracy\")\n",
        "plt.bar(models_ev['model'],models_ev['accuracy'] , color=colors)\n",
        "plt.show()\n"
      ],
      "metadata": {
        "id": "gczjY__1frWu"
      },
      "execution_count": null,
      "outputs": []
    }
  ]
}